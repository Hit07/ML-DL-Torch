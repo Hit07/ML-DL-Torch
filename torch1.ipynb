{
  "nbformat": 4,
  "nbformat_minor": 0,
  "metadata": {
    "colab": {
      "provenance": [],
      "authorship_tag": "ABX9TyNm7rzgAEDKV81PO7fXciEm",
      "include_colab_link": true
    },
    "kernelspec": {
      "name": "python3",
      "display_name": "Python 3"
    },
    "language_info": {
      "name": "python"
    }
  },
  "cells": [
    {
      "cell_type": "markdown",
      "metadata": {
        "id": "view-in-github",
        "colab_type": "text"
      },
      "source": [
        "<a href=\"https://colab.research.google.com/github/Hit07/ML-DL-Torch/blob/main/torch1.ipynb\" target=\"_parent\"><img src=\"https://colab.research.google.com/assets/colab-badge.svg\" alt=\"Open In Colab\"/></a>"
      ]
    },
    {
      "cell_type": "markdown",
      "source": [
        "## Import Statements\n"
      ],
      "metadata": {
        "id": "L3ytSoraAF9x"
      }
    },
    {
      "cell_type": "code",
      "source": [
        "import torch\n",
        "from torch import tensor,randint"
      ],
      "metadata": {
        "id": "5Nem_Y-cAKJL"
      },
      "execution_count": 66,
      "outputs": []
    },
    {
      "cell_type": "markdown",
      "source": [
        "## Tensors"
      ],
      "metadata": {
        "id": "HnjL3dkl_Ny3"
      }
    },
    {
      "cell_type": "code",
      "source": [
        "# scalars\n",
        "scalar = tensor(7)\n",
        "scalar\n",
        "scalar.ndim"
      ],
      "metadata": {
        "colab": {
          "base_uri": "https://localhost:8080/"
        },
        "id": "eswe4-P76Z5n",
        "outputId": "628e3e80-73d0-4f37-d3dd-7de84dade686"
      },
      "execution_count": 20,
      "outputs": [
        {
          "output_type": "execute_result",
          "data": {
            "text/plain": [
              "0"
            ]
          },
          "metadata": {},
          "execution_count": 20
        }
      ]
    },
    {
      "cell_type": "code",
      "source": [
        "# Gets tensor back as Python int\n",
        "scalar.item()"
      ],
      "metadata": {
        "colab": {
          "base_uri": "https://localhost:8080/"
        },
        "id": "6jYbr5G8_ZmK",
        "outputId": "d5f7b601-1a7f-442d-9eb2-388f6a98a875"
      },
      "execution_count": 5,
      "outputs": [
        {
          "output_type": "execute_result",
          "data": {
            "text/plain": [
              "7"
            ]
          },
          "metadata": {},
          "execution_count": 5
        }
      ]
    },
    {
      "cell_type": "code",
      "source": [
        "# Vector\n",
        "vector = tensor([7,7])\n",
        "vector.ndim\n",
        "vector.shape"
      ],
      "metadata": {
        "colab": {
          "base_uri": "https://localhost:8080/"
        },
        "id": "PVjGvTQPAV-y",
        "outputId": "818e48cf-cfac-4e08-bcf5-f5564af0e047"
      },
      "execution_count": 21,
      "outputs": [
        {
          "output_type": "execute_result",
          "data": {
            "text/plain": [
              "torch.Size([2])"
            ]
          },
          "metadata": {},
          "execution_count": 21
        }
      ]
    },
    {
      "cell_type": "code",
      "source": [
        "# MATRIX\n",
        "\n",
        "MATRIX = tensor([[2,3],\n",
        "                       [4,5]])\n",
        "MATRIX.ndim"
      ],
      "metadata": {
        "colab": {
          "base_uri": "https://localhost:8080/"
        },
        "id": "6TEOs1wTAg1G",
        "outputId": "06910fd4-4506-4705-ba20-67772d18cc72"
      },
      "execution_count": 25,
      "outputs": [
        {
          "output_type": "execute_result",
          "data": {
            "text/plain": [
              "2"
            ]
          },
          "metadata": {},
          "execution_count": 25
        }
      ]
    },
    {
      "cell_type": "code",
      "source": [
        "MATRIX[0]"
      ],
      "metadata": {
        "colab": {
          "base_uri": "https://localhost:8080/"
        },
        "id": "VSI6e5m6C0h6",
        "outputId": "82c1f0cd-92bf-4ef2-d09a-73605f3828df"
      },
      "execution_count": 26,
      "outputs": [
        {
          "output_type": "execute_result",
          "data": {
            "text/plain": [
              "tensor([2, 3])"
            ]
          },
          "metadata": {},
          "execution_count": 26
        }
      ]
    },
    {
      "cell_type": "code",
      "source": [
        "# TENSOR\n",
        "\n",
        "TENSOR = tensor([[[1,2,3],\n",
        "                       [3,4,5]],\n",
        "\n",
        "                      [[3,5,3],\n",
        "                       [4,3,6]],\n",
        "\n",
        "                      [[0,5,2],\n",
        "                       [5,8,7]]])\n",
        "TENSOR.shape\n"
      ],
      "metadata": {
        "colab": {
          "base_uri": "https://localhost:8080/"
        },
        "id": "l7PBhp09C3ol",
        "outputId": "5932d9f7-e673-4a8a-93e1-326872556152"
      },
      "execution_count": 28,
      "outputs": [
        {
          "output_type": "execute_result",
          "data": {
            "text/plain": [
              "torch.Size([3, 2, 3])"
            ]
          },
          "metadata": {},
          "execution_count": 28
        }
      ]
    },
    {
      "cell_type": "markdown",
      "source": [
        "### Random Numbers\n",
        "Start with random number -> Look at the data -> Update random number -> Repeate the previous steps"
      ],
      "metadata": {
        "id": "hRnk1NVOF78n"
      }
    },
    {
      "cell_type": "code",
      "source": [
        "# Creates the size of 3 and 4\n",
        "random_tensor = torch.rand(3,4)\n",
        "random_tensor"
      ],
      "metadata": {
        "colab": {
          "base_uri": "https://localhost:8080/"
        },
        "id": "VWSFNHXXGAa5",
        "outputId": "49c9cf97-e997-454e-ee6c-0b229bf54802"
      },
      "execution_count": 37,
      "outputs": [
        {
          "output_type": "execute_result",
          "data": {
            "text/plain": [
              "tensor([[0.7308, 0.3281, 0.2048, 0.6175],\n",
              "        [0.0219, 0.5012, 0.7087, 0.2420],\n",
              "        [0.2267, 0.3124, 0.5524, 0.6101]])"
            ]
          },
          "metadata": {},
          "execution_count": 37
        }
      ]
    },
    {
      "cell_type": "code",
      "source": [
        "# Create random image tensor\n",
        "random_image_tensor = torch.rand(224,224,3) # height,width,colour channel(RGB)\n",
        "random_image_tensor.shape , random_image_tensor.ndim"
      ],
      "metadata": {
        "colab": {
          "base_uri": "https://localhost:8080/"
        },
        "id": "1NLy0gF3Gps2",
        "outputId": "9efbc331-5803-480f-b7a0-26cda9330a40"
      },
      "execution_count": 39,
      "outputs": [
        {
          "output_type": "execute_result",
          "data": {
            "text/plain": [
              "(torch.Size([224, 224, 3]), 3)"
            ]
          },
          "metadata": {},
          "execution_count": 39
        }
      ]
    },
    {
      "cell_type": "code",
      "source": [
        "# Create tensors with zeores and ones\n",
        "\n",
        "random_zeores = torch.zeros(3,4)\n",
        "random_ones = torch.ones(3,4)\n",
        "random_zeores , random_ones\n",
        "\n",
        "random_ones.dtype"
      ],
      "metadata": {
        "colab": {
          "base_uri": "https://localhost:8080/"
        },
        "id": "cOlQGRzbH74Z",
        "outputId": "185e4bba-0155-4f87-a5e4-9b7b3c77233a"
      },
      "execution_count": 43,
      "outputs": [
        {
          "output_type": "execute_result",
          "data": {
            "text/plain": [
              "torch.float32"
            ]
          },
          "metadata": {},
          "execution_count": 43
        }
      ]
    },
    {
      "cell_type": "code",
      "source": [
        "# Tensors of range and tensors-like\n",
        "range = torch.arange(11,20)\n",
        "range\n",
        "\n",
        "# Tensors-like\n",
        "range_zeores = torch.zeros_like(input=range)\n",
        "range_zeores,range\n"
      ],
      "metadata": {
        "colab": {
          "base_uri": "https://localhost:8080/"
        },
        "id": "OhZ4PuX1IuwO",
        "outputId": "fa34cd6e-dee1-45eb-e173-45aa573ed678"
      },
      "execution_count": 47,
      "outputs": [
        {
          "output_type": "execute_result",
          "data": {
            "text/plain": [
              "(tensor([0, 0, 0, 0, 0, 0, 0, 0, 0]),\n",
              " tensor([11, 12, 13, 14, 15, 16, 17, 18, 19]))"
            ]
          },
          "metadata": {},
          "execution_count": 47
        }
      ]
    },
    {
      "cell_type": "markdown",
      "source": [
        "## Tensors Datatype\n",
        "Few of the errors we run into with Pytorch and deeplearning:\n",
        "1. Tensors not right datatype - ```tensor.dtype```\n",
        "2. Tensors not right shape -  ``` tensor.shape ```\n",
        "3. Tenosrs not on the right device - ``` tensor.device```\n"
      ],
      "metadata": {
        "id": "EV4UKErvJhWC"
      }
    },
    {
      "cell_type": "code",
      "source": [
        "datatype = tensor([2.0,4.0,5.0],\n",
        "                  dtype=None, # Default datatype is float32\n",
        "                  device=None,# What device is the tensor on\n",
        "                  require_grad=False) # Whether or not to track the gradient with the tensor\n",
        "datatype.dtype"
      ],
      "metadata": {
        "colab": {
          "base_uri": "https://localhost:8080/"
        },
        "id": "ox0NIN1NKZuy",
        "outputId": "5c4e1ead-5665-49e6-d64b-cc784d954efc"
      },
      "execution_count": 52,
      "outputs": [
        {
          "output_type": "execute_result",
          "data": {
            "text/plain": [
              "torch.float32"
            ]
          },
          "metadata": {},
          "execution_count": 52
        }
      ]
    },
    {
      "cell_type": "code",
      "source": [
        "float16_tensor = datatype.type(torch.float16)\n",
        "float16_tensor.dtype"
      ],
      "metadata": {
        "colab": {
          "base_uri": "https://localhost:8080/"
        },
        "id": "NJg4txrmKzXT",
        "outputId": "fa8097f5-0d41-4b32-e39d-c1b72a223a36"
      },
      "execution_count": 53,
      "outputs": [
        {
          "output_type": "execute_result",
          "data": {
            "text/plain": [
              "torch.float16"
            ]
          },
          "metadata": {},
          "execution_count": 53
        }
      ]
    },
    {
      "cell_type": "code",
      "source": [
        "datatype * float16_tensor"
      ],
      "metadata": {
        "colab": {
          "base_uri": "https://localhost:8080/"
        },
        "id": "qXNpCoKnMl6x",
        "outputId": "0f285e79-da98-43b7-981d-fa5613dbe48b"
      },
      "execution_count": 54,
      "outputs": [
        {
          "output_type": "execute_result",
          "data": {
            "text/plain": [
              "tensor([ 4., 16., 25.])"
            ]
          },
          "metadata": {},
          "execution_count": 54
        }
      ]
    },
    {
      "cell_type": "code",
      "source": [
        "int32_tensor = tensor([1,3,5],dtype=torch.int32)\n",
        "\n",
        "datatype*int32_tensor"
      ],
      "metadata": {
        "colab": {
          "base_uri": "https://localhost:8080/"
        },
        "id": "y8WXxIAgMyB4",
        "outputId": "b8c8fbf5-0b3b-4495-9663-b4b3c1e25801"
      },
      "execution_count": 55,
      "outputs": [
        {
          "output_type": "execute_result",
          "data": {
            "text/plain": [
              "tensor([ 2., 12., 25.])"
            ]
          },
          "metadata": {},
          "execution_count": 55
        }
      ]
    },
    {
      "cell_type": "markdown",
      "source": [
        "## Manipulating Tensor (Operations)"
      ],
      "metadata": {
        "id": "Iaraq5VkNNkp"
      }
    },
    {
      "cell_type": "code",
      "source": [
        "tensor = tensor([4,5,6])\n",
        "tensor+100\n"
      ],
      "metadata": {
        "colab": {
          "base_uri": "https://localhost:8080/"
        },
        "id": "IPydAn1ROmj9",
        "outputId": "38d2d567-9eaa-4030-d6a8-21b7c6cf6f03"
      },
      "execution_count": 67,
      "outputs": [
        {
          "output_type": "execute_result",
          "data": {
            "text/plain": [
              "tensor([104, 105, 106])"
            ]
          },
          "metadata": {},
          "execution_count": 67
        }
      ]
    },
    {
      "cell_type": "code",
      "source": [
        "tensor * 4"
      ],
      "metadata": {
        "colab": {
          "base_uri": "https://localhost:8080/"
        },
        "id": "zzCvpmGIOv5_",
        "outputId": "bc77c5b2-ae94-45c5-b97d-ac13c966ca7b"
      },
      "execution_count": 68,
      "outputs": [
        {
          "output_type": "execute_result",
          "data": {
            "text/plain": [
              "tensor([16, 20, 24])"
            ]
          },
          "metadata": {},
          "execution_count": 68
        }
      ]
    },
    {
      "cell_type": "code",
      "source": [
        "tensor_1 = tensor-1"
      ],
      "metadata": {
        "id": "tznHaR2xPXae"
      },
      "execution_count": 71,
      "outputs": []
    },
    {
      "cell_type": "markdown",
      "source": [
        "## Matrix Multiplication\n"
      ],
      "metadata": {
        "id": "EeR_kBYGPbVz"
      }
    },
    {
      "cell_type": "code",
      "source": [
        "torch.matmul(tensor,tensor_1)"
      ],
      "metadata": {
        "colab": {
          "base_uri": "https://localhost:8080/"
        },
        "id": "nIlGHDLAP-WG",
        "outputId": "5990794f-edc0-43c8-e9a5-703c5f3e06e9"
      },
      "execution_count": 74,
      "outputs": [
        {
          "output_type": "stream",
          "name": "stdout",
          "text": [
            "CPU times: user 550 µs, sys: 0 ns, total: 550 µs\n",
            "Wall time: 453 µs\n"
          ]
        },
        {
          "output_type": "execute_result",
          "data": {
            "text/plain": [
              "tensor(62)"
            ]
          },
          "metadata": {},
          "execution_count": 74
        }
      ]
    },
    {
      "cell_type": "code",
      "source": [
        "torch.mm(torch.rand(3,3),torch.rand(3,4)) # mm -> matmul"
      ],
      "metadata": {
        "colab": {
          "base_uri": "https://localhost:8080/"
        },
        "id": "2ELba-OnQ3-U",
        "outputId": "f5fcc577-4608-4dfb-c9c2-53e0d2d75f5a"
      },
      "execution_count": 76,
      "outputs": [
        {
          "output_type": "execute_result",
          "data": {
            "text/plain": [
              "tensor([[0.8391, 1.1499, 0.9301, 1.0470],\n",
              "        [0.8375, 1.2596, 1.0228, 1.0952],\n",
              "        [0.5125, 0.8886, 0.5035, 0.8592]])"
            ]
          },
          "metadata": {},
          "execution_count": 76
        }
      ]
    },
    {
      "cell_type": "markdown",
      "source": [
        "We might end with an error if inner dimension of the matrices donot match while matrix multiplication so deal with issue we can transpose the Matrix -> ``` tensor.T```"
      ],
      "metadata": {
        "id": "rgGMMss4RmIo"
      }
    },
    {
      "cell_type": "code",
      "source": [
        "tensorA = torch.randint(1,10,size=(3,2))\n",
        "tensorB = torch.randint(1,10,size=(3,2))\n",
        "# torch.mm(tensorA,tensorB) # Shows error\n",
        "tensorC = torch.mm(tensorA,tensorB.T)\n",
        "tensorC"
      ],
      "metadata": {
        "colab": {
          "base_uri": "https://localhost:8080/"
        },
        "id": "CgF2K9g2SxO9",
        "outputId": "78a5b6ee-5175-4d4d-ffc7-5ebb2546d88d"
      },
      "execution_count": 82,
      "outputs": [
        {
          "output_type": "execute_result",
          "data": {
            "text/plain": [
              "tensor([[ 73,  64,  17],\n",
              "        [ 49,  37,  11],\n",
              "        [112,  97,  26]])"
            ]
          },
          "metadata": {},
          "execution_count": 82
        }
      ]
    },
    {
      "cell_type": "markdown",
      "source": [
        "## Tensors Aggregation and Positional min and max"
      ],
      "metadata": {
        "id": "hWICezTzTWvR"
      }
    },
    {
      "cell_type": "code",
      "source": [
        "tensorC.min()\n",
        "tensorC_float32=tensorC.type(torch.float32)"
      ],
      "metadata": {
        "id": "YNewNloeUH6N"
      },
      "execution_count": 92,
      "outputs": []
    },
    {
      "cell_type": "code",
      "source": [
        "tensorC.max(),tensorC_float32.mean() # Mean doesnot work with int64"
      ],
      "metadata": {
        "colab": {
          "base_uri": "https://localhost:8080/"
        },
        "id": "1L15PyBvULix",
        "outputId": "c58a6b08-d428-454d-ee87-8e5aa7c7ab9c"
      },
      "execution_count": 95,
      "outputs": [
        {
          "output_type": "execute_result",
          "data": {
            "text/plain": [
              "(tensor(112), tensor(54.))"
            ]
          },
          "metadata": {},
          "execution_count": 95
        }
      ]
    },
    {
      "cell_type": "code",
      "source": [
        "range.argmin(),range.argmax()"
      ],
      "metadata": {
        "colab": {
          "base_uri": "https://localhost:8080/"
        },
        "id": "xfy_1GZlUaeq",
        "outputId": "68caa7ab-6d17-45ba-c72d-622f6f941eec"
      },
      "execution_count": 97,
      "outputs": [
        {
          "output_type": "execute_result",
          "data": {
            "text/plain": [
              "(tensor(0), tensor(8))"
            ]
          },
          "metadata": {},
          "execution_count": 97
        }
      ]
    },
    {
      "cell_type": "code",
      "source": [
        "range.sum()"
      ],
      "metadata": {
        "colab": {
          "base_uri": "https://localhost:8080/"
        },
        "id": "qOYCSthJWOdV",
        "outputId": "a3caf8c1-7192-4788-e065-d513129d7e7d"
      },
      "execution_count": 98,
      "outputs": [
        {
          "output_type": "execute_result",
          "data": {
            "text/plain": [
              "tensor(135)"
            ]
          },
          "metadata": {},
          "execution_count": 98
        }
      ]
    },
    {
      "cell_type": "markdown",
      "source": [
        "## Reshaping, Stacking, Squeezing and Unsqueezing\n",
        "\n",
        "* **Reshaping**: reshapes a input tensor to defined shape.\n",
        "* **View**:Retruns a view of an input tensor of certain shape but keeps the same memroy as the original\n",
        "* **Stacking**: Combines multiple tensors of each other(vstack) and side by side (hstack).\n",
        "* **Squeez**: removes all```1``` dimesnion from the tensor.\n",
        "* **Unsqueez**: add a ```1``` dimension to a target tensor.\n",
        "* **Permute**: Returns a view of the input with dimension permuted(swapped) in a certain way.\n"
      ],
      "metadata": {
        "id": "KwAU9VocY3Zz"
      }
    },
    {
      "cell_type": "code",
      "source": [
        "x = torch.arange(1.0,11.0)\n",
        "x,x.shape"
      ],
      "metadata": {
        "colab": {
          "base_uri": "https://localhost:8080/"
        },
        "id": "sWJVgZ3ldTdl",
        "outputId": "46e92824-8a0f-4745-d171-3ab94a4ed64b"
      },
      "execution_count": 126,
      "outputs": [
        {
          "output_type": "execute_result",
          "data": {
            "text/plain": [
              "(tensor([ 1.,  2.,  3.,  4.,  5.,  6.,  7.,  8.,  9., 10.]), torch.Size([10]))"
            ]
          },
          "metadata": {},
          "execution_count": 126
        }
      ]
    },
    {
      "cell_type": "code",
      "source": [
        "# Reshape --> Need to be compatible with original shape (factors of it)\n",
        "reshaped = x.reshape(1,10)\n",
        "reshaped,reshaped.size()"
      ],
      "metadata": {
        "colab": {
          "base_uri": "https://localhost:8080/"
        },
        "id": "PvC8UpvWeyIP",
        "outputId": "6d02107c-a01c-46e9-a1fd-744a13eba2a5"
      },
      "execution_count": 134,
      "outputs": [
        {
          "output_type": "execute_result",
          "data": {
            "text/plain": [
              "(tensor([[12.,  2.,  3.,  4.,  5.,  6.,  7.,  8.,  9., 10.]]),\n",
              " torch.Size([1, 10]))"
            ]
          },
          "metadata": {},
          "execution_count": 134
        }
      ]
    },
    {
      "cell_type": "code",
      "source": [
        "# Views --> Its shares the same memeory as the original tensors\n",
        "view_x = x.view(1,10)\n",
        "view_x,view_x.shape"
      ],
      "metadata": {
        "colab": {
          "base_uri": "https://localhost:8080/"
        },
        "id": "qJG0PNpne6XP",
        "outputId": "a5248b38-4820-4955-92c7-529c99741ccf"
      },
      "execution_count": 135,
      "outputs": [
        {
          "output_type": "execute_result",
          "data": {
            "text/plain": [
              "(tensor([[12.,  2.,  3.,  4.,  5.,  6.,  7.,  8.,  9., 10.]]),\n",
              " torch.Size([1, 10]))"
            ]
          },
          "metadata": {},
          "execution_count": 135
        }
      ]
    },
    {
      "cell_type": "code",
      "source": [
        "view_x[:,0] = 12\n",
        "view_x,x"
      ],
      "metadata": {
        "colab": {
          "base_uri": "https://localhost:8080/"
        },
        "id": "mPQV0mdbfzT2",
        "outputId": "852bcfa1-82db-4f39-ebfc-cd002bcba97f"
      },
      "execution_count": 131,
      "outputs": [
        {
          "output_type": "execute_result",
          "data": {
            "text/plain": [
              "(tensor([[12.,  2.,  3.,  4.,  5.,  6.,  7.,  8.,  9., 10.]]),\n",
              " tensor([12.,  2.,  3.,  4.,  5.,  6.,  7.,  8.,  9., 10.]))"
            ]
          },
          "metadata": {},
          "execution_count": 131
        }
      ]
    },
    {
      "cell_type": "code",
      "source": [
        "# Stacking -Horizontally and Vertically\n",
        "\n",
        "stacked_x = torch.stack([x,x,x],dim=1)\n",
        "stacked_x"
      ],
      "metadata": {
        "colab": {
          "base_uri": "https://localhost:8080/"
        },
        "id": "mOU-BthrgAxc",
        "outputId": "a8b671ac-2472-4d1d-ac94-da396a20235a"
      },
      "execution_count": 132,
      "outputs": [
        {
          "output_type": "execute_result",
          "data": {
            "text/plain": [
              "tensor([[12., 12., 12.],\n",
              "        [ 2.,  2.,  2.],\n",
              "        [ 3.,  3.,  3.],\n",
              "        [ 4.,  4.,  4.],\n",
              "        [ 5.,  5.,  5.],\n",
              "        [ 6.,  6.,  6.],\n",
              "        [ 7.,  7.,  7.],\n",
              "        [ 8.,  8.,  8.],\n",
              "        [ 9.,  9.,  9.],\n",
              "        [10., 10., 10.]])"
            ]
          },
          "metadata": {},
          "execution_count": 132
        }
      ]
    },
    {
      "cell_type": "code",
      "source": [
        "# Squeez and Unsqueez\n",
        "\n",
        "squeeze_x = torch.squeeze(input=view_x,dim=0)\n",
        "squeeze_x,squeeze_x.shape\n",
        "\n",
        "\n",
        "squeeze_x.unsqueeze(dim=1)"
      ],
      "metadata": {
        "colab": {
          "base_uri": "https://localhost:8080/"
        },
        "id": "mxxa9N0fgpwm",
        "outputId": "d49a4513-07ff-4e18-fa73-1ce722397add"
      },
      "execution_count": 147,
      "outputs": [
        {
          "output_type": "execute_result",
          "data": {
            "text/plain": [
              "tensor([[12.],\n",
              "        [ 2.],\n",
              "        [ 3.],\n",
              "        [ 4.],\n",
              "        [ 5.],\n",
              "        [ 6.],\n",
              "        [ 7.],\n",
              "        [ 8.],\n",
              "        [ 9.],\n",
              "        [10.]])"
            ]
          },
          "metadata": {},
          "execution_count": 147
        }
      ]
    },
    {
      "cell_type": "code",
      "source": [
        "#Permute - rearranges the dimensions of target tensor specified order\n",
        "# swapps the dim\n",
        "#dim1->(,1,)...\n",
        "random_image_tensor.permute([2,0,1]).shape"
      ],
      "metadata": {
        "colab": {
          "base_uri": "https://localhost:8080/"
        },
        "id": "H4plhcFvhpmP",
        "outputId": "210d8566-484a-4588-d4af-a92a2b0f03ef"
      },
      "execution_count": 151,
      "outputs": [
        {
          "output_type": "execute_result",
          "data": {
            "text/plain": [
              "torch.Size([3, 224, 224])"
            ]
          },
          "metadata": {},
          "execution_count": 151
        }
      ]
    },
    {
      "cell_type": "code",
      "source": [],
      "metadata": {
        "id": "x36J8ubYjco7"
      },
      "execution_count": null,
      "outputs": []
    }
  ]
}