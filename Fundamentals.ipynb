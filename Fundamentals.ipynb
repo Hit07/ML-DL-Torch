{
  "nbformat": 4,
  "nbformat_minor": 0,
  "metadata": {
    "colab": {
      "provenance": [],
      "gpuType": "T4",
      "authorship_tag": "ABX9TyMHJqG2+J2iR4wvcqjqI5rw",
      "include_colab_link": true
    },
    "kernelspec": {
      "name": "python3",
      "display_name": "Python 3"
    },
    "language_info": {
      "name": "python"
    },
    "accelerator": "GPU"
  },
  "cells": [
    {
      "cell_type": "markdown",
      "metadata": {
        "id": "view-in-github",
        "colab_type": "text"
      },
      "source": [
        "<a href=\"https://colab.research.google.com/github/Hit07/ML-DL-Torch/blob/main/Fundamentals.ipynb\" target=\"_parent\"><img src=\"https://colab.research.google.com/assets/colab-badge.svg\" alt=\"Open In Colab\"/></a>"
      ]
    },
    {
      "cell_type": "markdown",
      "source": [
        "## Import Statements\n"
      ],
      "metadata": {
        "id": "L3ytSoraAF9x"
      }
    },
    {
      "cell_type": "code",
      "source": [
        "import torch\n",
        "from torch import tensor,randint\n",
        "import numpy as np"
      ],
      "metadata": {
        "id": "5Nem_Y-cAKJL"
      },
      "execution_count": 3,
      "outputs": []
    },
    {
      "cell_type": "markdown",
      "source": [
        "## Tensors"
      ],
      "metadata": {
        "id": "HnjL3dkl_Ny3"
      }
    },
    {
      "cell_type": "code",
      "source": [
        "# scalars\n",
        "scalar = tensor(7)\n",
        "scalar\n",
        "scalar.ndim"
      ],
      "metadata": {
        "colab": {
          "base_uri": "https://localhost:8080/"
        },
        "id": "eswe4-P76Z5n",
        "outputId": "723eb254-b211-46f6-d39d-6b270b3e2aef"
      },
      "execution_count": null,
      "outputs": [
        {
          "output_type": "execute_result",
          "data": {
            "text/plain": [
              "0"
            ]
          },
          "metadata": {},
          "execution_count": 3
        }
      ]
    },
    {
      "cell_type": "code",
      "source": [
        "# Gets tensor back as Python int\n",
        "scalar.item()"
      ],
      "metadata": {
        "colab": {
          "base_uri": "https://localhost:8080/"
        },
        "id": "6jYbr5G8_ZmK",
        "outputId": "b6e9a39b-7949-4f33-ce91-1c5b17e14541"
      },
      "execution_count": null,
      "outputs": [
        {
          "output_type": "execute_result",
          "data": {
            "text/plain": [
              "7"
            ]
          },
          "metadata": {},
          "execution_count": 4
        }
      ]
    },
    {
      "cell_type": "code",
      "source": [
        "# Vector\n",
        "vector = tensor([7,7])\n",
        "vector.ndim\n",
        "vector.shape"
      ],
      "metadata": {
        "colab": {
          "base_uri": "https://localhost:8080/"
        },
        "id": "PVjGvTQPAV-y",
        "outputId": "e9c99ea3-0990-4969-9be9-fb301478ef98"
      },
      "execution_count": null,
      "outputs": [
        {
          "output_type": "execute_result",
          "data": {
            "text/plain": [
              "torch.Size([2])"
            ]
          },
          "metadata": {},
          "execution_count": 5
        }
      ]
    },
    {
      "cell_type": "code",
      "source": [
        "# MATRIX\n",
        "\n",
        "MATRIX = tensor([[2,3],\n",
        "                       [4,5]])\n",
        "MATRIX.ndim"
      ],
      "metadata": {
        "colab": {
          "base_uri": "https://localhost:8080/"
        },
        "id": "6TEOs1wTAg1G",
        "outputId": "13e5101f-748c-4f58-edb4-8632bad14ff2"
      },
      "execution_count": null,
      "outputs": [
        {
          "output_type": "execute_result",
          "data": {
            "text/plain": [
              "2"
            ]
          },
          "metadata": {},
          "execution_count": 6
        }
      ]
    },
    {
      "cell_type": "code",
      "source": [
        "MATRIX[0]"
      ],
      "metadata": {
        "colab": {
          "base_uri": "https://localhost:8080/"
        },
        "id": "VSI6e5m6C0h6",
        "outputId": "144b08b4-6575-411a-f896-027a730e7615"
      },
      "execution_count": null,
      "outputs": [
        {
          "output_type": "execute_result",
          "data": {
            "text/plain": [
              "tensor([2, 3])"
            ]
          },
          "metadata": {},
          "execution_count": 7
        }
      ]
    },
    {
      "cell_type": "code",
      "source": [
        "# TENSOR\n",
        "\n",
        "TENSOR = tensor([[[1,2,3],\n",
        "                       [3,4,5]],\n",
        "\n",
        "                      [[3,5,3],\n",
        "                       [4,3,6]],\n",
        "\n",
        "                      [[0,5,2],\n",
        "                       [5,8,7]]])\n",
        "TENSOR.shape\n"
      ],
      "metadata": {
        "colab": {
          "base_uri": "https://localhost:8080/"
        },
        "id": "l7PBhp09C3ol",
        "outputId": "050b4576-d5c9-42c3-d72a-c7f162b9c97d"
      },
      "execution_count": null,
      "outputs": [
        {
          "output_type": "execute_result",
          "data": {
            "text/plain": [
              "torch.Size([3, 2, 3])"
            ]
          },
          "metadata": {},
          "execution_count": 8
        }
      ]
    },
    {
      "cell_type": "markdown",
      "source": [
        "### Random Numbers\n",
        "Start with random number -> Look at the data -> Update random number -> Repeate the previous steps"
      ],
      "metadata": {
        "id": "hRnk1NVOF78n"
      }
    },
    {
      "cell_type": "code",
      "source": [
        "# Creates the size of 3 and 4\n",
        "random_tensor = torch.rand(3,4)\n",
        "random_tensor"
      ],
      "metadata": {
        "colab": {
          "base_uri": "https://localhost:8080/"
        },
        "id": "VWSFNHXXGAa5",
        "outputId": "42bbe6b6-1a05-411b-fe17-eb02875cc171"
      },
      "execution_count": null,
      "outputs": [
        {
          "output_type": "execute_result",
          "data": {
            "text/plain": [
              "tensor([[0.8501, 0.1897, 0.0700, 0.0213],\n",
              "        [0.2263, 0.3175, 0.9446, 0.4584],\n",
              "        [0.6781, 0.7064, 0.2786, 0.0957]])"
            ]
          },
          "metadata": {},
          "execution_count": 9
        }
      ]
    },
    {
      "cell_type": "code",
      "source": [
        "# Create random image tensor\n",
        "random_image_tensor = torch.rand(224,224,3) # height,width,colour channel(RGB)\n",
        "random_image_tensor.shape , random_image_tensor.ndim"
      ],
      "metadata": {
        "colab": {
          "base_uri": "https://localhost:8080/"
        },
        "id": "1NLy0gF3Gps2",
        "outputId": "88e48e8b-6bfd-44a7-fce3-8073c22c3f1d"
      },
      "execution_count": null,
      "outputs": [
        {
          "output_type": "execute_result",
          "data": {
            "text/plain": [
              "(torch.Size([224, 224, 3]), 3)"
            ]
          },
          "metadata": {},
          "execution_count": 10
        }
      ]
    },
    {
      "cell_type": "code",
      "source": [
        "# Create tensors with zeores and ones\n",
        "\n",
        "random_zeores = torch.zeros(3,4)\n",
        "random_ones = torch.ones(3,4)\n",
        "random_zeores , random_ones\n",
        "\n",
        "random_ones.dtype"
      ],
      "metadata": {
        "colab": {
          "base_uri": "https://localhost:8080/"
        },
        "id": "cOlQGRzbH74Z",
        "outputId": "bebd4de8-d1ac-4570-ad7b-1d1adc36453a"
      },
      "execution_count": null,
      "outputs": [
        {
          "output_type": "execute_result",
          "data": {
            "text/plain": [
              "torch.float32"
            ]
          },
          "metadata": {},
          "execution_count": 11
        }
      ]
    },
    {
      "cell_type": "code",
      "source": [
        "# Tensors of range and tensors-like\n",
        "range = torch.arange(11,20)\n",
        "range\n",
        "\n",
        "# Tensors-like\n",
        "range_zeores = torch.zeros_like(input=range)\n",
        "range_zeores,range\n"
      ],
      "metadata": {
        "colab": {
          "base_uri": "https://localhost:8080/"
        },
        "id": "OhZ4PuX1IuwO",
        "outputId": "dfed4859-8ca7-47d8-acf2-67dd50ab6e52"
      },
      "execution_count": null,
      "outputs": [
        {
          "output_type": "execute_result",
          "data": {
            "text/plain": [
              "(tensor([0, 0, 0, 0, 0, 0, 0, 0, 0]),\n",
              " tensor([11, 12, 13, 14, 15, 16, 17, 18, 19]))"
            ]
          },
          "metadata": {},
          "execution_count": 12
        }
      ]
    },
    {
      "cell_type": "markdown",
      "source": [
        "## Tensors Datatype\n",
        "Few of the errors we run into with Pytorch and deeplearning:\n",
        "1. Tensors not right datatype - ```tensor.dtype```\n",
        "2. Tensors not right shape -  ``` tensor.shape ```\n",
        "3. Tenosrs not on the right device - ``` tensor.device```\n"
      ],
      "metadata": {
        "id": "EV4UKErvJhWC"
      }
    },
    {
      "cell_type": "code",
      "source": [
        "datatype = tensor([2.0,4.0,5.0],\n",
        "                  dtype=None, # Default datatype is float32\n",
        "                  device=None)# What device is the tensor on\n",
        "                  # require_grad=False) # Whether or not to track the gradient with the tensor\n",
        "datatype.dtype"
      ],
      "metadata": {
        "colab": {
          "base_uri": "https://localhost:8080/"
        },
        "id": "ox0NIN1NKZuy",
        "outputId": "3ce984e6-c167-4dde-994f-0b2a7f2f1a77"
      },
      "execution_count": 33,
      "outputs": [
        {
          "output_type": "execute_result",
          "data": {
            "text/plain": [
              "torch.float32"
            ]
          },
          "metadata": {},
          "execution_count": 33
        }
      ]
    },
    {
      "cell_type": "code",
      "source": [
        "float16_tensor = datatype.type(torch.float16)\n",
        "float16_tensor.dtype"
      ],
      "metadata": {
        "id": "NJg4txrmKzXT"
      },
      "execution_count": null,
      "outputs": []
    },
    {
      "cell_type": "code",
      "source": [
        "datatype * float16_tensor"
      ],
      "metadata": {
        "id": "qXNpCoKnMl6x"
      },
      "execution_count": null,
      "outputs": []
    },
    {
      "cell_type": "code",
      "source": [
        "int32_tensor = tensor([1,3,5],dtype=torch.int32)\n",
        "\n",
        "datatype*int32_tensor"
      ],
      "metadata": {
        "id": "y8WXxIAgMyB4"
      },
      "execution_count": null,
      "outputs": []
    },
    {
      "cell_type": "markdown",
      "source": [
        "## Manipulating Tensor (Operations)\n",
        "\n",
        "* add(),sub(),mul().."
      ],
      "metadata": {
        "id": "Iaraq5VkNNkp"
      }
    },
    {
      "cell_type": "code",
      "source": [
        "tensor = tensor([4,5,6])\n",
        "tensor+100\n"
      ],
      "metadata": {
        "id": "IPydAn1ROmj9"
      },
      "execution_count": null,
      "outputs": []
    },
    {
      "cell_type": "code",
      "source": [
        "tensor * 4"
      ],
      "metadata": {
        "id": "zzCvpmGIOv5_"
      },
      "execution_count": null,
      "outputs": []
    },
    {
      "cell_type": "code",
      "source": [
        "tensor_1 = tensor-1"
      ],
      "metadata": {
        "id": "tznHaR2xPXae"
      },
      "execution_count": null,
      "outputs": []
    },
    {
      "cell_type": "markdown",
      "source": [
        "## Matrix Multiplication\n"
      ],
      "metadata": {
        "id": "EeR_kBYGPbVz"
      }
    },
    {
      "cell_type": "code",
      "source": [
        "torch.matmul(tensor,tensor_1)"
      ],
      "metadata": {
        "id": "nIlGHDLAP-WG"
      },
      "execution_count": null,
      "outputs": []
    },
    {
      "cell_type": "code",
      "source": [
        "torch.mm(torch.rand(3,3),torch.rand(3,4)) # mm -> matmul"
      ],
      "metadata": {
        "id": "2ELba-OnQ3-U"
      },
      "execution_count": null,
      "outputs": []
    },
    {
      "cell_type": "markdown",
      "source": [
        "We might end with an error if inner dimension of the matrices donot match while matrix multiplication so deal with issue we can transpose the Matrix -> ``` tensor.T```"
      ],
      "metadata": {
        "id": "rgGMMss4RmIo"
      }
    },
    {
      "cell_type": "code",
      "source": [
        "tensorA = torch.randint(1,10,size=(3,2))\n",
        "tensorB = torch.randint(1,10,size=(3,2))\n",
        "# torch.mm(tensorA,tensorB) # Shows error\n",
        "tensorC = torch.mm(tensorA,tensorB.T)\n",
        "tensorC"
      ],
      "metadata": {
        "id": "CgF2K9g2SxO9"
      },
      "execution_count": null,
      "outputs": []
    },
    {
      "cell_type": "markdown",
      "source": [
        "## Tensors Aggregation and Positional min and max\n",
        "\n",
        "* min(),max(),sum(),mean() and other operations"
      ],
      "metadata": {
        "id": "hWICezTzTWvR"
      }
    },
    {
      "cell_type": "code",
      "source": [
        "tensorC.min()\n",
        "tensorC_float32=tensorC.type(torch.float32)"
      ],
      "metadata": {
        "id": "YNewNloeUH6N"
      },
      "execution_count": null,
      "outputs": []
    },
    {
      "cell_type": "code",
      "source": [
        "tensorC.max(),tensorC_float32.mean() # Mean doesnot work with int64"
      ],
      "metadata": {
        "id": "1L15PyBvULix"
      },
      "execution_count": null,
      "outputs": []
    },
    {
      "cell_type": "code",
      "source": [
        "range.argmin(),range.argmax()"
      ],
      "metadata": {
        "id": "xfy_1GZlUaeq"
      },
      "execution_count": null,
      "outputs": []
    },
    {
      "cell_type": "code",
      "source": [
        "range.sum()"
      ],
      "metadata": {
        "id": "qOYCSthJWOdV"
      },
      "execution_count": null,
      "outputs": []
    },
    {
      "cell_type": "markdown",
      "source": [
        "## Reshaping, Stacking, Squeezing and Unsqueezing\n",
        "\n",
        "* **Reshaping**: reshapes a input tensor to defined shape.\n",
        "* **View**:Retruns a view of an input tensor of certain shape but keeps the same memroy as the original\n",
        "* **Stacking**: Combines multiple tensors of each other(vstack) and side by side (hstack).\n",
        "* **Squeez**: removes all```1``` dimesnion from the tensor.\n",
        "* **Unsqueez**: add a ```1``` dimension to a target tensor.\n",
        "* **Permute**: Returns a view of the input with dimension permuted(swapped) in a certain way.\n"
      ],
      "metadata": {
        "id": "KwAU9VocY3Zz"
      }
    },
    {
      "cell_type": "code",
      "source": [
        "x = torch.arange(1.0,11.0)\n",
        "x,x.shape"
      ],
      "metadata": {
        "id": "sWJVgZ3ldTdl"
      },
      "execution_count": null,
      "outputs": []
    },
    {
      "cell_type": "code",
      "source": [
        "# Reshape --> Need to be compatible with original shape (factors of it)\n",
        "reshaped = x.reshape(1,10)\n",
        "reshaped,reshaped.size()"
      ],
      "metadata": {
        "id": "PvC8UpvWeyIP"
      },
      "execution_count": null,
      "outputs": []
    },
    {
      "cell_type": "code",
      "source": [
        "# Views --> Its shares the same memeory as the original tensors\n",
        "view_x = x.view(1,10)\n",
        "view_x,view_x.shape"
      ],
      "metadata": {
        "id": "qJG0PNpne6XP"
      },
      "execution_count": null,
      "outputs": []
    },
    {
      "cell_type": "code",
      "source": [
        "view_x[:,0] = 12\n",
        "view_x,x"
      ],
      "metadata": {
        "id": "mPQV0mdbfzT2"
      },
      "execution_count": null,
      "outputs": []
    },
    {
      "cell_type": "code",
      "source": [
        "# Stacking -Horizontally and Vertically\n",
        "\n",
        "stacked_x = torch.stack([x,x,x],dim=1)\n",
        "stacked_x"
      ],
      "metadata": {
        "id": "mOU-BthrgAxc"
      },
      "execution_count": null,
      "outputs": []
    },
    {
      "cell_type": "code",
      "source": [
        "# Squeez and Unsqueez\n",
        "\n",
        "squeeze_x = torch.squeeze(input=view_x,dim=0)\n",
        "squeeze_x,squeeze_x.shape\n",
        "\n",
        "\n",
        "squeeze_x.unsqueeze(dim=1)"
      ],
      "metadata": {
        "id": "mxxa9N0fgpwm"
      },
      "execution_count": null,
      "outputs": []
    },
    {
      "cell_type": "markdown",
      "source": [
        "- Permute returns view of the original tensor, changing any values also reflects in the same position"
      ],
      "metadata": {
        "id": "iuKV2A24E_cw"
      }
    },
    {
      "cell_type": "code",
      "source": [
        "#Permute - rearranges the dimensions of target tensor specified order\n",
        "# swapps the dim\n",
        "#dim1->(,1,)...\n",
        "random_image_tensor.permute([2,0,1]).shape"
      ],
      "metadata": {
        "id": "H4plhcFvhpmP"
      },
      "execution_count": null,
      "outputs": []
    },
    {
      "cell_type": "markdown",
      "source": [
        "## Indexing\n",
        "\n",
        "* Indexing with Pytorch is similar to indexing with Numpy"
      ],
      "metadata": {
        "id": "x36J8ubYjco7"
      }
    },
    {
      "cell_type": "code",
      "source": [
        "import torch\n",
        "y = torch.arange(1,10).reshape(1,3,3)\n",
        "y,y.shape"
      ],
      "metadata": {
        "id": "eMlha_QnEzi5",
        "colab": {
          "base_uri": "https://localhost:8080/"
        },
        "outputId": "ced5d4c7-d1ed-4199-fe8e-d9a783688a16"
      },
      "execution_count": 23,
      "outputs": [
        {
          "output_type": "execute_result",
          "data": {
            "text/plain": [
              "(tensor([[[1, 2, 3],\n",
              "          [4, 5, 6],\n",
              "          [7, 8, 9]]]),\n",
              " torch.Size([1, 3, 3]))"
            ]
          },
          "metadata": {},
          "execution_count": 23
        }
      ]
    },
    {
      "cell_type": "code",
      "source": [
        "y[0][1]"
      ],
      "metadata": {
        "id": "gXzwZd0dFvWS",
        "colab": {
          "base_uri": "https://localhost:8080/"
        },
        "outputId": "cc546e4f-8eca-4b1b-a0c0-06bc04c9fee7"
      },
      "execution_count": 25,
      "outputs": [
        {
          "output_type": "execute_result",
          "data": {
            "text/plain": [
              "tensor([4, 5, 6])"
            ]
          },
          "metadata": {},
          "execution_count": 25
        }
      ]
    },
    {
      "cell_type": "code",
      "source": [
        "y[:,:,0]"
      ],
      "metadata": {
        "colab": {
          "base_uri": "https://localhost:8080/"
        },
        "id": "PWVlnuSMGMzs",
        "outputId": "2d263262-60bb-418d-f557-87d82f0c4121"
      },
      "execution_count": 30,
      "outputs": [
        {
          "output_type": "execute_result",
          "data": {
            "text/plain": [
              "tensor([[1, 4, 7]])"
            ]
          },
          "metadata": {},
          "execution_count": 30
        }
      ]
    },
    {
      "cell_type": "code",
      "source": [
        "y[:,:,2]"
      ],
      "metadata": {
        "colab": {
          "base_uri": "https://localhost:8080/"
        },
        "id": "Ckj5BuEwG8cZ",
        "outputId": "6a589718-55a6-4019-e8a0-af4b81634a30"
      },
      "execution_count": 31,
      "outputs": [
        {
          "output_type": "execute_result",
          "data": {
            "text/plain": [
              "tensor([[3, 6, 9]])"
            ]
          },
          "metadata": {},
          "execution_count": 31
        }
      ]
    },
    {
      "cell_type": "markdown",
      "source": [
        "## Pytorch tensors & Numpy\n",
        "\n",
        "* Data in Numpy to Pytorch -> ```torch.from_numpy(ndarray)```\n",
        "* Pytorch tensor to Numpy -> ```torch.Tensor.numpy()```\n",
        "\n",
        "**Note**:\n",
        "* When converting from numpy to Pytorch, pytorch will reflect numpy's default datatype i.e **float64**\n",
        "\n",
        "* Similarly, when converting form Tensor to Numpy it inherits datatype of default tensor i.e **float32**"
      ],
      "metadata": {
        "id": "TVIg9W4TIdyj"
      }
    },
    {
      "cell_type": "code",
      "source": [
        "#Numpy to Tensor\n",
        "\n",
        "array = np.array([1.0,2.0,3.0])\n",
        "pytensor = torch.from_numpy(array)\n",
        "\n",
        "pytensor,pytensor.dtype"
      ],
      "metadata": {
        "colab": {
          "base_uri": "https://localhost:8080/"
        },
        "id": "-gTV83xSIrxh",
        "outputId": "7cb26472-4205-4ccd-c902-fe517784c182"
      },
      "execution_count": 37,
      "outputs": [
        {
          "output_type": "execute_result",
          "data": {
            "text/plain": [
              "(tensor([1., 2., 3.], dtype=torch.float64), torch.float64)"
            ]
          },
          "metadata": {},
          "execution_count": 37
        }
      ]
    },
    {
      "cell_type": "code",
      "source": [
        "# Changing the array won't make any changes to tensor and vice-versa(From Tensor to Numpy)\n",
        "array = array +1\n",
        "array,pytensor"
      ],
      "metadata": {
        "colab": {
          "base_uri": "https://localhost:8080/"
        },
        "id": "6C8FQMGCJuWb",
        "outputId": "d351b63f-e1d1-4a69-b191-0cceac4d3796"
      },
      "execution_count": 41,
      "outputs": [
        {
          "output_type": "execute_result",
          "data": {
            "text/plain": [
              "(array([4., 5., 6.]), tensor([1., 2., 3.], dtype=torch.float64))"
            ]
          },
          "metadata": {},
          "execution_count": 41
        }
      ]
    },
    {
      "cell_type": "code",
      "source": [
        "# Tensor to Numpy\n",
        "\n",
        "tensor = torch.ones(7)\n",
        "np_tensor = tensor.numpy()\n",
        "\n",
        "tensor , np_tensor"
      ],
      "metadata": {
        "colab": {
          "base_uri": "https://localhost:8080/"
        },
        "id": "qgOFqFXFKdrM",
        "outputId": "8d873afc-e2b6-4de1-8165-9b472ff768d8"
      },
      "execution_count": 44,
      "outputs": [
        {
          "output_type": "execute_result",
          "data": {
            "text/plain": [
              "(tensor([1., 1., 1., 1., 1., 1., 1.]),\n",
              " array([1., 1., 1., 1., 1., 1., 1.], dtype=float32))"
            ]
          },
          "metadata": {},
          "execution_count": 44
        }
      ]
    },
    {
      "cell_type": "markdown",
      "source": [
        "## Reproducibility ( taking random out of randm)\n",
        "\n",
        "* It enables us to reproduce the same results every time we run our code, which is essential when debugging or evaluating models --> Achieve by setting seed manually\n",
        "\n",
        "* [Read more...](https://pieriantraining.com/how-to-set-the-seed-in-pytorch-for-reproducible-results/#:~:text=Setting%20the%20Seed%20in%20PyTorch,by%20setting%20the%20seed%20manually.)"
      ],
      "metadata": {
        "id": "2aN8OjvRMwUo"
      }
    },
    {
      "cell_type": "code",
      "source": [
        "seed = 24\n",
        "torch.manual_seed(seed)\n",
        "tensorC = torch.rand(3,3)\n",
        "\n",
        "torch.manual_seed(seed)\n",
        "tensorD = torch.rand(3,3)\n"
      ],
      "metadata": {
        "id": "Ku6IHAHBQAjn"
      },
      "execution_count": 47,
      "outputs": []
    },
    {
      "cell_type": "code",
      "source": [
        "print(tensorC==tensorD)"
      ],
      "metadata": {
        "colab": {
          "base_uri": "https://localhost:8080/"
        },
        "id": "1VA2V5vPR4z_",
        "outputId": "bbd7b6e6-7346-463f-d74a-9182184eb149"
      },
      "execution_count": 48,
      "outputs": [
        {
          "output_type": "stream",
          "name": "stdout",
          "text": [
            "tensor([[True, True, True],\n",
            "        [True, True, True],\n",
            "        [True, True, True]])\n"
          ]
        }
      ]
    },
    {
      "cell_type": "markdown",
      "source": [
        "## Running Tensors and Pytorch objects on GPUs using CUDA\n",
        "\n",
        "- We want tensor/Model on the GPU because using a GPU results in faster computation"
      ],
      "metadata": {
        "id": "YAdvtqFgSIPq"
      }
    },
    {
      "cell_type": "code",
      "source": [
        "!nvidia-smi"
      ],
      "metadata": {
        "colab": {
          "base_uri": "https://localhost:8080/"
        },
        "id": "Qc-xVrJBTT9c",
        "outputId": "a4becd5d-4433-4cc0-9dc3-c894cd9c60a1"
      },
      "execution_count": 1,
      "outputs": [
        {
          "output_type": "stream",
          "name": "stdout",
          "text": [
            "Thu Jul 11 10:20:23 2024       \n",
            "+---------------------------------------------------------------------------------------+\n",
            "| NVIDIA-SMI 535.104.05             Driver Version: 535.104.05   CUDA Version: 12.2     |\n",
            "|-----------------------------------------+----------------------+----------------------+\n",
            "| GPU  Name                 Persistence-M | Bus-Id        Disp.A | Volatile Uncorr. ECC |\n",
            "| Fan  Temp   Perf          Pwr:Usage/Cap |         Memory-Usage | GPU-Util  Compute M. |\n",
            "|                                         |                      |               MIG M. |\n",
            "|=========================================+======================+======================|\n",
            "|   0  Tesla T4                       Off | 00000000:00:04.0 Off |                    0 |\n",
            "| N/A   40C    P8               9W /  70W |      0MiB / 15360MiB |      0%      Default |\n",
            "|                                         |                      |                  N/A |\n",
            "+-----------------------------------------+----------------------+----------------------+\n",
            "                                                                                         \n",
            "+---------------------------------------------------------------------------------------+\n",
            "| Processes:                                                                            |\n",
            "|  GPU   GI   CI        PID   Type   Process name                            GPU Memory |\n",
            "|        ID   ID                                                             Usage      |\n",
            "|=======================================================================================|\n",
            "|  No running processes found                                                           |\n",
            "+---------------------------------------------------------------------------------------+\n"
          ]
        }
      ]
    },
    {
      "cell_type": "code",
      "source": [
        "torch.cuda.is_available()"
      ],
      "metadata": {
        "colab": {
          "base_uri": "https://localhost:8080/"
        },
        "id": "mxrnJOeITt1Z",
        "outputId": "85a2955d-2e54-417a-8db4-40170818306d"
      },
      "execution_count": 6,
      "outputs": [
        {
          "output_type": "execute_result",
          "data": {
            "text/plain": [
              "True"
            ]
          },
          "metadata": {},
          "execution_count": 6
        }
      ]
    },
    {
      "cell_type": "code",
      "source": [
        " # Setup device agnostice code\n",
        "device = \"cuda\" if torch.cuda.is_available() else \"cpu\"\n",
        "device"
      ],
      "metadata": {
        "colab": {
          "base_uri": "https://localhost:8080/",
          "height": 35
        },
        "id": "g1BEUCq4UEcS",
        "outputId": "3e03d924-4d74-4bae-a2ec-019ab0bde860"
      },
      "execution_count": 29,
      "outputs": [
        {
          "output_type": "execute_result",
          "data": {
            "text/plain": [
              "'cuda'"
            ],
            "application/vnd.google.colaboratory.intrinsic+json": {
              "type": "string"
            }
          },
          "metadata": {},
          "execution_count": 29
        }
      ]
    },
    {
      "cell_type": "code",
      "source": [
        "# Count number of devices\n",
        "torch.cuda.device_count()"
      ],
      "metadata": {
        "colab": {
          "base_uri": "https://localhost:8080/"
        },
        "id": "FU_2jqtLUbw7",
        "outputId": "6b6df678-5433-4e6b-a397-e5f7609c9ce5"
      },
      "execution_count": 30,
      "outputs": [
        {
          "output_type": "execute_result",
          "data": {
            "text/plain": [
              "1"
            ]
          },
          "metadata": {},
          "execution_count": 30
        }
      ]
    },
    {
      "cell_type": "code",
      "source": [
        "tensor = torch.tensor([1,2,3])\n",
        "tensor.device\n",
        "\n",
        "# We can shift the tensor on GPU\n",
        "tensor_to_gpu  = tensor.to(device)\n",
        "tensor_to_gpu"
      ],
      "metadata": {
        "colab": {
          "base_uri": "https://localhost:8080/"
        },
        "id": "7B_8m1fuUuqE",
        "outputId": "09a21c12-f90b-4ff8-de9f-7e2667537f29"
      },
      "execution_count": 17,
      "outputs": [
        {
          "output_type": "execute_result",
          "data": {
            "text/plain": [
              "tensor([1, 2, 3], device='cuda:0')"
            ]
          },
          "metadata": {},
          "execution_count": 17
        }
      ]
    },
    {
      "cell_type": "code",
      "source": [
        "# We can convert the tensor_gpu to numpy since it doesn't work\n",
        "tensor_to_gpu.numpy()"
      ],
      "metadata": {
        "colab": {
          "base_uri": "https://localhost:8080/",
          "height": 180
        },
        "id": "Fzv-PHgiVotP",
        "outputId": "8b0713a6-3c78-41f7-dd1b-ef6b37941433"
      },
      "execution_count": 18,
      "outputs": [
        {
          "output_type": "error",
          "ename": "TypeError",
          "evalue": "can't convert cuda:0 device type tensor to numpy. Use Tensor.cpu() to copy the tensor to host memory first.",
          "traceback": [
            "\u001b[0;31m---------------------------------------------------------------------------\u001b[0m",
            "\u001b[0;31mTypeError\u001b[0m                                 Traceback (most recent call last)",
            "\u001b[0;32m<ipython-input-18-4c0da44ab7a9>\u001b[0m in \u001b[0;36m<cell line: 2>\u001b[0;34m()\u001b[0m\n\u001b[1;32m      1\u001b[0m \u001b[0;31m# We can convert the tensor_gpu to numpy since it doesn't work\u001b[0m\u001b[0;34m\u001b[0m\u001b[0;34m\u001b[0m\u001b[0m\n\u001b[0;32m----> 2\u001b[0;31m \u001b[0mtensor_to_gpu\u001b[0m\u001b[0;34m.\u001b[0m\u001b[0mnumpy\u001b[0m\u001b[0;34m(\u001b[0m\u001b[0;34m)\u001b[0m\u001b[0;34m\u001b[0m\u001b[0;34m\u001b[0m\u001b[0m\n\u001b[0m",
            "\u001b[0;31mTypeError\u001b[0m: can't convert cuda:0 device type tensor to numpy. Use Tensor.cpu() to copy the tensor to host memory first."
          ]
        }
      ]
    },
    {
      "cell_type": "code",
      "source": [
        "# Moving tensor back to CPU\n",
        "tensor_to_gpu.cpu().numpy()\n"
      ],
      "metadata": {
        "colab": {
          "base_uri": "https://localhost:8080/"
        },
        "id": "cZn0xoi4WW6T",
        "outputId": "b699cfae-b63a-4609-b2b8-40abac05b368"
      },
      "execution_count": 23,
      "outputs": [
        {
          "output_type": "execute_result",
          "data": {
            "text/plain": [
              "array([1, 2, 3])"
            ]
          },
          "metadata": {},
          "execution_count": 23
        }
      ]
    },
    {
      "cell_type": "code",
      "source": [
        "torch.manual_seed(1234)\n",
        "torch.cuda.manual_seed(1234)\n",
        "random_tensor = torch.rand(2,3)\n",
        "\n",
        "random_tensor"
      ],
      "metadata": {
        "colab": {
          "base_uri": "https://localhost:8080/"
        },
        "id": "38b5HWcUWxVh",
        "outputId": "57975fbd-d627-49b1-ce72-9280c0620b81"
      },
      "execution_count": 39,
      "outputs": [
        {
          "output_type": "execute_result",
          "data": {
            "text/plain": [
              "tensor([[0.0290, 0.4019, 0.2598],\n",
              "        [0.3666, 0.0583, 0.7006]])"
            ]
          },
          "metadata": {},
          "execution_count": 39
        }
      ]
    },
    {
      "cell_type": "code",
      "source": [
        "random_tensor = random_tensor.to(device)\n",
        "random_tensor.device"
      ],
      "metadata": {
        "colab": {
          "base_uri": "https://localhost:8080/"
        },
        "id": "Hk5GHjY7YA6i",
        "outputId": "c1ef1dab-1ff2-4a51-ea70-2f7b02e79a22"
      },
      "execution_count": 37,
      "outputs": [
        {
          "output_type": "execute_result",
          "data": {
            "text/plain": [
              "device(type='cuda', index=0)"
            ]
          },
          "metadata": {},
          "execution_count": 37
        }
      ]
    }
  ]
}