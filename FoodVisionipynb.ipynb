{
  "nbformat": 4,
  "nbformat_minor": 0,
  "metadata": {
    "colab": {
      "provenance": [],
      "authorship_tag": "ABX9TyMaMDlbynzJVcb0S7kt8cKB",
      "include_colab_link": true
    },
    "kernelspec": {
      "name": "python3",
      "display_name": "Python 3"
    },
    "language_info": {
      "name": "python"
    }
  },
  "cells": [
    {
      "cell_type": "markdown",
      "metadata": {
        "id": "view-in-github",
        "colab_type": "text"
      },
      "source": [
        "<a href=\"https://colab.research.google.com/github/Hit07/ML-DL-Torch/blob/main/FoodVisionipynb.ipynb\" target=\"_parent\"><img src=\"https://colab.research.google.com/assets/colab-badge.svg\" alt=\"Open In Colab\"/></a>"
      ]
    },
    {
      "cell_type": "markdown",
      "source": [
        "# CUSTOM DATASET\n",
        "\n",
        "> Our dataset is a subset of the Food101 dataset.\n",
        "Food101 starts 101 different classes of food and 1000 images per class (750\n",
        "training, 250 testing)\n",
        "\n",
        "> Our dataset starts with 3 classes of food and only 10% of the images (-75 training,\n",
        "25 testing)\n",
        "\n",
        "> Why do this?\n",
        "When starting out ML projects, it's important to try things on a small scale and then increase the scale when necessary.\n",
        "The whole point is to speed up how fast you can experiment."
      ],
      "metadata": {
        "id": "bQQfqCp8zfrJ"
      }
    },
    {
      "cell_type": "code",
      "source": [
        "import torch\n",
        "from torch import nn\n",
        "from pathlib import Path\n",
        "import requests\n",
        "import zipfile"
      ],
      "metadata": {
        "id": "VRsaU7jLnU3L"
      },
      "execution_count": 1,
      "outputs": []
    },
    {
      "cell_type": "markdown",
      "source": [
        "# Downloading the datasets"
      ],
      "metadata": {
        "id": "sEuMW1z4oN_Y"
      }
    },
    {
      "cell_type": "code",
      "source": [
        "data_path = Path(\"data/\")\n",
        "images_path = data_path / 'pizza_steak_sushi'\n",
        "\n",
        "if images_path.is_dir():\n",
        "  print(f'{images_path} directory already exists, skipping download')\n",
        "else:\n",
        "  print(f\"{images_path} directory doesn't exist\")\n",
        "  images_path.mkdir(parents=True,exist_ok=True)\n",
        "\n",
        "  with open(data_path/'pizza_steak_sushi.zip','wb') as f:\n",
        "    request = requests.get('https://github.com/mrdbourke/pytorch-deep-learning/raw/main/data/pizza_steak_sushi.zip')\n",
        "    request.raise_for_status\n",
        "    print(\"Downlaoding the zip file\")\n",
        "    f.write(request.content)\n",
        "\n",
        "  with zipfile.ZipFile(data_path/'pizza_steak_sushi.zip','r') as zip_f:\n",
        "    print(\"Extracting zipfile\")\n",
        "    zip_f.extractall(images_path)\n"
      ],
      "metadata": {
        "colab": {
          "base_uri": "https://localhost:8080/"
        },
        "id": "a6yy5UChvHE-",
        "outputId": "e5bd3694-7079-49e6-de64-93af0fe5fb2e"
      },
      "execution_count": 2,
      "outputs": [
        {
          "output_type": "stream",
          "name": "stdout",
          "text": [
            "data/pizza_steak_sushi directory doesn't exist\n",
            "Downlaoding the zip file\n",
            "opening zipfile\n"
          ]
        }
      ]
    },
    {
      "cell_type": "code",
      "source": [],
      "metadata": {
        "id": "Z_uI5lkIzrrV"
      },
      "execution_count": null,
      "outputs": []
    }
  ]
}